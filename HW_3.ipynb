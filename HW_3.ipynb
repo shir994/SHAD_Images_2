{
 "cells": [
  {
   "cell_type": "code",
   "execution_count": 1,
   "metadata": {},
   "outputs": [
    {
     "name": "stdout",
     "output_type": "stream",
     "text": [
      "env: CUDA_VISIBLE_DEVICES=0,2,3\n",
      "env: LIBRARY_PATH=/usr/local/cuda/lib64\n"
     ]
    }
   ],
   "source": [
    "%env CUDA_VISIBLE_DEVICES=0,2,3\n",
    "%env LIBRARY_PATH=/usr/local/cuda/lib64\n",
    "import sys\n",
    "sys.path.append(os.path.expanduser(\"~/.local/lib/python3.6/site-packages/\"))"
   ]
  },
  {
   "cell_type": "code",
   "execution_count": 2,
   "metadata": {
    "collapsed": true
   },
   "outputs": [],
   "source": [
    "import numpy as np\n",
    "import pickle\n",
    "import os\n",
    "import matplotlib.pyplot as plt\n",
    "%matplotlib inline\n",
    "import scipy\n",
    "from sklearn.metrics import accuracy_score\n",
    "from sklearn.metrics import roc_auc_score"
   ]
  },
  {
   "cell_type": "code",
   "execution_count": 3,
   "metadata": {},
   "outputs": [
    {
     "name": "stderr",
     "output_type": "stream",
     "text": [
      "/opt/conda/anaconda3/lib/python3.6/site-packages/h5py/__init__.py:34: FutureWarning: Conversion of the second argument of issubdtype from `float` to `np.floating` is deprecated. In future, it will be treated as `np.float64 == np.dtype(float).type`.\n",
      "  from ._conv import register_converters as _register_converters\n"
     ]
    }
   ],
   "source": [
    "import h5py\n",
    "import torch\n",
    "import cv2"
   ]
  },
  {
   "cell_type": "code",
   "execution_count": 4,
   "metadata": {
    "collapsed": true
   },
   "outputs": [],
   "source": [
    "from torch import nn\n",
    "import torch.nn.functional as F\n",
    "from torch.autograd import Variable\n",
    "\n",
    "class Flatten(nn.Module):\n",
    "    def forward(self, input):\n",
    "        return input.view(input.size(0), -1)"
   ]
  },
  {
   "cell_type": "code",
   "execution_count": 5,
   "metadata": {
    "collapsed": true
   },
   "outputs": [],
   "source": [
    "def get_flow(capture, name, train_photo_folder, frames_per_video=30):\n",
    "    ret, frame1 = capture.read()\n",
    "    prvs = cv2.cvtColor(frame1, cv2.COLOR_BGR2GRAY)\n",
    "    hsv = np.zeros_like(frame1)\n",
    "    hsv[...,1] = 255    \n",
    "    \n",
    "    frames = list()\n",
    "    flow_img = list()\n",
    "\n",
    "    while(1):\n",
    "        ret, frame2 = capture.read()\n",
    "        if not ret: break\n",
    "        frames.append(frame2) \n",
    "\n",
    "    frames_ind = np.random.choice(len(frames), replace=False, size=frames_per_video)\n",
    "    np.save(os.path.join(train_photo_folder, name), np.array(frames)[frames_ind])"
   ]
  },
  {
   "cell_type": "code",
   "execution_count": 6,
   "metadata": {
    "collapsed": true
   },
   "outputs": [],
   "source": [
    "train_video_path = os.path.expanduser(\"~/data/Images_2_data/HW_3_data/{0}_video/action-recognition-{0}/\"\n",
    "                                      .format(\"train\"))"
   ]
  },
  {
   "cell_type": "code",
   "execution_count": 7,
   "metadata": {
    "collapsed": true
   },
   "outputs": [],
   "source": [
    "train_photo_folder = os.path.expanduser(\"~/data/Images_2_data/HW_3_data/{0}_frames\".format(\"train\"))"
   ]
  },
  {
   "cell_type": "code",
   "execution_count": 8,
   "metadata": {
    "collapsed": true,
    "scrolled": false
   },
   "outputs": [],
   "source": [
    "def make_frame_crops(train_photo_folder):\n",
    "    video_names = os.listdir(train_video_path)\n",
    "    for index, name in enumerate(video_names):\n",
    "        capture = cv2.VideoCapture(os.path.join(train_video_path, name))\n",
    "        get_flow(capture, name.split(\".\")[0], train_photo_folder)\n",
    "        if not index % 100:\n",
    "            print(index)"
   ]
  },
  {
   "cell_type": "code",
   "execution_count": 9,
   "metadata": {
    "collapsed": true
   },
   "outputs": [],
   "source": [
    "%%time\n",
    "make_frame_crops(train_photo_folder)"
   ]
  },
  {
   "cell_type": "code",
   "execution_count": 10,
   "metadata": {
    "collapsed": true
   },
   "outputs": [],
   "source": [
    "#plt.imshow(np.load(train_photo_folder + \"/8616.npy\")[0][..., ::-1])"
   ]
  },
  {
   "cell_type": "markdown",
   "metadata": {},
   "source": [
    "## PyTorch data loaders"
   ]
  },
  {
   "cell_type": "code",
   "execution_count": 11,
   "metadata": {
    "collapsed": true
   },
   "outputs": [],
   "source": [
    "from torch.utils.data import Dataset \n",
    "from PIL import Image\n",
    "import random\n",
    "from torchvision import transforms"
   ]
  },
  {
   "cell_type": "code",
   "execution_count": 12,
   "metadata": {
    "collapsed": true
   },
   "outputs": [],
   "source": [
    "class MyDataset(Dataset):\n",
    "    def __init__(self, data_paths, transform_X=None, answers=None, train=True, pack=5):\n",
    "        self.data_paths = data_paths\n",
    "        self.transform_X = transform_X\n",
    "        self.answers = answers\n",
    "        self.train = train\n",
    "        self.pack = pack\n",
    "    \n",
    "    def __getitem__(self, index):\n",
    "        image_pack = np.load(self.data_paths[index])[..., ::-1]\n",
    "        if self.train:\n",
    "            image_pack = image_pack[np.random.choice(range(len(image_pack)), size=self.pack, replace=False)]\n",
    "        transformed_images = []\n",
    "        if self.transform_X:\n",
    "            transformed_images = [self.transform_X(Image.fromarray(x)) for x in image_pack]\n",
    "        video_id = self.data_paths[index].split(\"/\")[-1].split(\".\")[0] + '.avi'\n",
    "        \n",
    "        if self.answers:\n",
    "            y = self.answers[video_id]\n",
    "            return transformed_images, y \n",
    "        else:\n",
    "            return transformed_images\n",
    "\n",
    "    def __len__(self):\n",
    "        return len(self.data_paths)"
   ]
  },
  {
   "cell_type": "code",
   "execution_count": 13,
   "metadata": {
    "collapsed": true
   },
   "outputs": [],
   "source": [
    "import csv\n",
    "train_paths = [os.path.join(train_photo_folder, file) for file in os.listdir(train_photo_folder)]\n",
    "\n",
    "answers = {}\n",
    "with open(os.path.expanduser(\"~/data/Images_2_data/HW_3_data/train_gt.csv\"), 'r') as f:\n",
    "    reader = csv.reader(f)\n",
    "    next(reader, None)\n",
    "    for row in csv.reader(f):\n",
    "        answers[row[0]] = int(row[1])"
   ]
  },
  {
   "cell_type": "code",
   "execution_count": 14,
   "metadata": {},
   "outputs": [
    {
     "name": "stderr",
     "output_type": "stream",
     "text": [
      "/home/shirobokov/.local/lib/python3.6/site-packages/sklearn/cross_validation.py:41: DeprecationWarning: This module was deprecated in version 0.18 in favor of the model_selection module into which all the refactored classes and functions are moved. Also note that the interface of the new CV iterators are different from that of this module. This module will be removed in 0.20.\n",
      "  \"This module will be removed in 0.20.\", DeprecationWarning)\n"
     ]
    }
   ],
   "source": [
    "from sklearn.cross_validation import train_test_split\n",
    "files = np.array([file for file in os.listdir(train_photo_folder)])\n",
    "\n",
    "train_paths, val_paths = train_test_split(files, train_size = 0.9, random_state=1543)\n",
    "\n",
    "\n",
    "train_paths = [os.path.join(train_photo_folder, file) for file in train_paths]\n",
    "val_paths = [os.path.join(train_photo_folder, file) for file in val_paths]"
   ]
  },
  {
   "cell_type": "code",
   "execution_count": null,
   "metadata": {
    "collapsed": true
   },
   "outputs": [],
   "source": []
  },
  {
   "cell_type": "code",
   "execution_count": 15,
   "metadata": {
    "collapsed": true
   },
   "outputs": [],
   "source": [
    "batch_size = 32#64\n",
    "\n",
    "transform_X_train = transforms.Compose([\n",
    "    transforms.RandomResizedCrop(224),\n",
    "    transforms.ToTensor(),\n",
    "    transforms.Normalize(mean=[0.485, 0.456, 0.406],\n",
    "                         std=[0.229, 0.224, 0.225])\n",
    "])\n",
    "\n",
    "train_dataset = MyDataset(train_paths, transform_X=transform_X_train, answers=answers)\n",
    "\n",
    "train_batch_gen = torch.utils.data.DataLoader(train_dataset, \n",
    "                                              batch_size=batch_size,\n",
    "                                              shuffle=True,\n",
    "                                              num_workers=1)\n",
    "\n",
    "transform_X_val = transforms.Compose([\n",
    "    transforms.Resize((224, 224)),\n",
    "    transforms.ToTensor(),\n",
    "    transforms.Normalize(mean=[0.485, 0.456, 0.406],\n",
    "                         std=[0.229, 0.224, 0.225])\n",
    "])\n",
    "\n",
    "val_dataset = MyDataset(val_paths, transform_X=transform_X_val, answers=answers, train=True)\n",
    "\n",
    "val_batch_gen = torch.utils.data.DataLoader(val_dataset, \n",
    "                                              batch_size=batch_size,\n",
    "                                              shuffle=False,\n",
    "                                              num_workers=1)"
   ]
  },
  {
   "cell_type": "code",
   "execution_count": 16,
   "metadata": {},
   "outputs": [
    {
     "data": {
      "text/plain": [
       "(30, 267)"
      ]
     },
     "execution_count": 16,
     "metadata": {},
     "output_type": "execute_result"
    }
   ],
   "source": [
    "len(val_batch_gen), len(train_batch_gen)"
   ]
  },
  {
   "cell_type": "code",
   "execution_count": 17,
   "metadata": {
    "collapsed": true
   },
   "outputs": [],
   "source": [
    "for (x_batch, y_batch) in val_batch_gen:\n",
    "#     plt.imshow((np.array([x[0].numpy() for x in x_batch])[4] * np.array([0.229, 0.224, 0.225])[:, None, None] + \n",
    "#                 np.array([0.485, 0.456, 0.406])[:, None, None]).transpose(1,2,0))\n",
    "    break"
   ]
  },
  {
   "cell_type": "code",
   "execution_count": 18,
   "metadata": {
    "collapsed": true
   },
   "outputs": [],
   "source": [
    "# plt.imshow((np.array([x[0].numpy() for x in x_batch])[29] * np.array([0.229, 0.224, 0.225])[:, None, None] + \n",
    "#             np.array([0.485, 0.456, 0.406])[:, None, None]).transpose(1,2,0))"
   ]
  },
  {
   "cell_type": "markdown",
   "metadata": {},
   "source": [
    "## Spatial network"
   ]
  },
  {
   "cell_type": "code",
   "execution_count": 20,
   "metadata": {
    "collapsed": true
   },
   "outputs": [],
   "source": [
    "import torchvision.models as models\n",
    "net = models.resnet101(pretrained=True)\n",
    "net.fc = nn.Linear(2048, 101, bias=True)\n",
    "net = net.cuda()\n",
    "net = nn.DataParallel(net)"
   ]
  },
  {
   "cell_type": "code",
   "execution_count": 22,
   "metadata": {
    "collapsed": true
   },
   "outputs": [],
   "source": [
    "def get_output(net, X_batch, train=True):\n",
    "    video_index = len(X_batch)\n",
    "    batch_size = X_batch[0].shape[0]\n",
    "    input_stacked = torch.transpose(torch.stack([x for x in X_batch]), 1, 0).contiguous()\n",
    "    input_stacked = input_stacked.view(input_stacked.shape[0] * input_stacked.shape[1], 3, 224, 224)\n",
    "    if train:\n",
    "        output = net(Variable(input_stacked).cuda())\n",
    "    else:\n",
    "        output = net(Variable(input_stacked, volatile=True).cuda())\n",
    "    return torch.stack([output[index * video_index : video_index * (index + 1), :].mean(dim=0)\n",
    "                       for index in range(batch_size)])\n",
    "\n",
    "def softmax(x):\n",
    "    \"\"\"Compute softmax values for each sets of scores in x.\"\"\"\n",
    "    e_x = np.exp(x - np.max(x))\n",
    "    return e_x / e_x.sum(axis=-1).reshape(-1,1)"
   ]
  },
  {
   "cell_type": "code",
   "execution_count": 23,
   "metadata": {
    "collapsed": true
   },
   "outputs": [],
   "source": [
    "import time\n",
    "from pandas import ewma\n",
    "from IPython import display\n",
    "from sklearn.metrics import accuracy_score        \n",
    "\n",
    "opt = torch.optim.Adam(net.parameters(), lr=1e-4)\n",
    "\n",
    "num_epochs = 2\n",
    "\n",
    "train_loss = []\n",
    "val_accuracy = []"
   ]
  },
  {
   "cell_type": "code",
   "execution_count": 52,
   "metadata": {
    "collapsed": true
   },
   "outputs": [],
   "source": [
    "opt = torch.optim.Adam(net.parameters(), lr=1e-5)"
   ]
  },
  {
   "cell_type": "code",
   "execution_count": 58,
   "metadata": {
    "collapsed": true
   },
   "outputs": [],
   "source": [
    "num_epochs = 5"
   ]
  },
  {
   "cell_type": "code",
   "execution_count": null,
   "metadata": {},
   "outputs": [
    {
     "data": {
      "image/png": "[encoded data removed]",
      "text/plain": [
       "<matplotlib.figure.Figure at 0x7f1929fd9668>"
      ]
     },
     "metadata": {},
     "output_type": "display_data"
    },
    {
     "name": "stdout",
     "output_type": "stream",
     "text": [
      "Epoch 5 of 5 took 701.538s\n",
      "  training loss (in-iteration): \t0.012475\n",
      "  validation acc:\t\t0.986458\n"
     ]
    }
   ],
   "source": [
    "for epoch in range(num_epochs):\n",
    "    start_time = time.time()\n",
    "    \n",
    "    net.train()\n",
    "    start_time = time.time()\n",
    "    loss_batch = []\n",
    "    inner_batch_counter = 0\n",
    "    for (X_batch, y_batch) in train_batch_gen:\n",
    "        # train on batch\n",
    "        logits = get_output(net, X_batch)\n",
    "        y_batch = Variable(y_batch).cuda()\n",
    "\n",
    "        loss = F.cross_entropy(logits, y_batch)\n",
    "        loss.backward()\n",
    "        opt.step()\n",
    "        opt.zero_grad()\n",
    "        loss_batch.append(loss.data.cpu().numpy()[0])\n",
    "        \n",
    "        inner_batch_counter += 1\n",
    "        if not inner_batch_counter % 25:\n",
    "            print(inner_batch_counter)\n",
    "    train_loss.append(np.mean(loss_batch))\n",
    "    \n",
    "    print(\"Eval:------------\")\n",
    "    net.eval()\n",
    "    val_acc = []\n",
    "    for (X_batch, y_batch) in val_batch_gen:\n",
    "        logits = get_output(net, X_batch, train=False)\n",
    "        y_pred = logits.data.cpu().numpy()\n",
    "        prob_batch = softmax(logits.data.cpu().numpy()).argmax(axis=-1)\n",
    "        val_acc.append(accuracy_score(y_batch.numpy(), prob_batch))\n",
    "    val_accuracy.append(np.mean(val_acc))\n",
    "        \n",
    "    display.clear_output(wait=True)\n",
    "    #plt.figure(figsize=(8, 6))\n",
    "    f, (ax1, ax2) = plt.subplots(1, 2, figsize=(16,6))\n",
    "    ax1.set_title(\"Train loss\")\n",
    "    ax1.set_xlabel(\"#Epoch\")\n",
    "    ax1.set_ylabel(\"loss\")\n",
    "    ax1.plot(train_loss, 'b',label='val loss')\n",
    "    ax1.plot(ewma(np.array(train_loss), span=10),'r',label='ewm val loss')\n",
    "    ax1.legend(loc='best')\n",
    "    ax1.grid()\n",
    "    \n",
    "    ax2.set_title(\"Validation accuracy\")\n",
    "    ax2.set_xlabel(\"#Epoch\")\n",
    "    ax2.set_ylabel(\"accuracy\")\n",
    "    ax2.plot(val_accuracy, 'b',label='val acc')\n",
    "    ax2.plot(ewma(np.array(val_accuracy), span=10),'r',label='ewm val acc')\n",
    "    ax2.legend(loc='best')\n",
    "    ax2.grid()    \n",
    "    \n",
    "    plt.show() \n",
    "\n",
    "    \n",
    "    # Then we print the results for this epoch:\n",
    "    print(\"Epoch {} of {} took {:.3f}s\".format(\n",
    "        epoch + 1, num_epochs, time.time() - start_time))\n",
    "    print(\"  training loss (in-iteration): \\t{:.6f}\".format(train_loss[-1]))\n",
    "#     print(\"  validation accuracy: \\t\\t\\t{:.2f} %\".format(\n",
    "#         np.mean(val_accuracy[-len(X_val) // batch_size :]) * 100))\n",
    "    print(\"  validation acc:\\t\\t{:.6f}\".format(val_accuracy[-1]))"
   ]
  },
  {
   "cell_type": "code",
   "execution_count": 61,
   "metadata": {},
   "outputs": [],
   "source": [
    "# net.eval()"
   ]
  },
  {
   "cell_type": "code",
   "execution_count": 62,
   "metadata": {
    "collapsed": true
   },
   "outputs": [],
   "source": [
    "# with open (os.path.expanduser(\"~/data/Images_2_data/HW_3_data/resnet101_36_epochs.pt\"), 'wb') as f:\n",
    "#     torch.save(net, f)"
   ]
  },
  {
   "cell_type": "code",
   "execution_count": 29,
   "metadata": {
    "collapsed": true
   },
   "outputs": [],
   "source": [
    "# with open (os.path.expanduser(\"~/data/Images_2_data/HW_3_data/resnet18_25_epochs.pt\"), 'rb') as f:\n",
    "#     kek = torch.load(f)"
   ]
  },
  {
   "cell_type": "markdown",
   "metadata": {},
   "source": [
    "## Load test data and evaluate"
   ]
  },
  {
   "cell_type": "code",
   "execution_count": 63,
   "metadata": {
    "collapsed": true
   },
   "outputs": [],
   "source": [
    "test_photo_folder = os.path.expanduser(\"~/data/Images_2_data/HW_3_data/{0}_frames\".format(\"test\"))\n",
    "\n",
    "test_paths = [os.path.join(test_photo_folder, file) for file in os.listdir(test_photo_folder)]"
   ]
  },
  {
   "cell_type": "code",
   "execution_count": null,
   "metadata": {
    "collapsed": true
   },
   "outputs": [],
   "source": []
  },
  {
   "cell_type": "code",
   "execution_count": 64,
   "metadata": {
    "collapsed": true
   },
   "outputs": [],
   "source": [
    "test_dataset = MyDataset(test_paths, transform_X=transform_X_val, answers=None, train=True)\n",
    "\n",
    "test_batch_gen = torch.utils.data.DataLoader(test_dataset, \n",
    "                                             batch_size=batch_size,\n",
    "                                             shuffle=False,\n",
    "                                             num_workers=1)"
   ]
  },
  {
   "cell_type": "code",
   "execution_count": 65,
   "metadata": {
    "collapsed": true
   },
   "outputs": [],
   "source": [
    "net.eval()\n",
    "val_acc = []\n",
    "for X_batch in test_batch_gen:\n",
    "    logits = get_output(net, X_batch, train=False)\n",
    "    y_pred = logits.data.cpu().numpy()\n",
    "    prob_batch = softmax(logits.data.cpu().numpy()).argmax(axis=-1)\n",
    "    val_acc.append(prob_batch)"
   ]
  },
  {
   "cell_type": "code",
   "execution_count": 66,
   "metadata": {
    "collapsed": true
   },
   "outputs": [],
   "source": [
    "test_answers = []\n",
    "for value in val_acc:\n",
    "    test_answers.extend(list(value))"
   ]
  },
  {
   "cell_type": "code",
   "execution_count": 67,
   "metadata": {},
   "outputs": [
    {
     "data": {
      "text/plain": [
       "3729"
      ]
     },
     "execution_count": 67,
     "metadata": {},
     "output_type": "execute_result"
    }
   ],
   "source": [
    "len(test_answers)"
   ]
  },
  {
   "cell_type": "code",
   "execution_count": 68,
   "metadata": {
    "collapsed": true
   },
   "outputs": [],
   "source": [
    "import pandas as pd"
   ]
  },
  {
   "cell_type": "code",
   "execution_count": 69,
   "metadata": {
    "collapsed": true
   },
   "outputs": [],
   "source": [
    "test_keys = [path.split(\"/\")[-1][:-3] + \"avi\" for path in  test_paths]"
   ]
  },
  {
   "cell_type": "code",
   "execution_count": 70,
   "metadata": {
    "collapsed": true
   },
   "outputs": [],
   "source": [
    "test_dataframe = pd.DataFrame({\"filename\":test_keys,\n",
    "                               \"classnum\":test_answers}, columns =(\"filename\", \"classnum\"))"
   ]
  },
  {
   "cell_type": "code",
   "execution_count": 38,
   "metadata": {},
   "outputs": [
    {
     "data": {
      "text/plain": [
       "<matplotlib.image.AxesImage at 0x7f192ebf1ac8>"
      ]
     },
     "execution_count": 38,
     "metadata": {},
     "output_type": "execute_result"
    },
    {
     "data": {
      "image/png": "[encoded data removed]",
      "text/plain": [
       "<matplotlib.figure.Figure at 0x7f192eb8ad68>"
      ]
     },
     "metadata": {},
     "output_type": "display_data"
    }
   ],
   "source": [
    "plt.imshow(np.load(test_photo_folder + \"/2960.npy\")[5][..., ::-1])"
   ]
  },
  {
   "cell_type": "code",
   "execution_count": 39,
   "metadata": {},
   "outputs": [
    {
     "name": "stdout",
     "output_type": "stream",
     "text": [
      "0029.avi\n"
     ]
    }
   ],
   "source": [
    "# for key, value in answers.items():\n",
    "#     if value == 21:\n",
    "#         print(key)\n",
    "#         break"
   ]
  },
  {
   "cell_type": "code",
   "execution_count": 72,
   "metadata": {
    "collapsed": true
   },
   "outputs": [],
   "source": [
    "test_dataframe.to_csv(\"test_ans.csv\", index=False)"
   ]
  },
  {
   "cell_type": "markdown",
   "metadata": {
    "collapsed": true
   },
   "source": [
    "### Summary"
   ]
  },
  {
   "cell_type": "markdown",
   "metadata": {},
   "source": [
    "I used ResNet101 Pretrained on Imagenet, with only laster layer substituted. I tranined net by randomly picking 5 frames from video, with small data augmentation - changing aspect ratio and taking random crop. The net was trained with learning rate decay(1e-4, 1e-4/2, 1e-5) and optimizer restarts. The training took about a day.\n",
    "I did not use optical flow. Since I know, that it should increase the accuracy(up to 82 standalone and 86 with combination of usual images), but it will be even more time consuming to train two networks."
   ]
  },
  {
   "cell_type": "code",
   "execution_count": null,
   "metadata": {
    "collapsed": true
   },
   "outputs": [],
   "source": []
  }
 ],
 "metadata": {
  "kernelspec": {
   "display_name": "Python 3",
   "language": "python",
   "name": "python3"
  },
  "language_info": {
   "codemirror_mode": {
    "name": "ipython",
    "version": 3
   },
   "file_extension": ".py",
   "mimetype": "text/x-python",
   "name": "python",
   "nbconvert_exporter": "python",
   "pygments_lexer": "ipython3",
   "version": "3.6.1"
  }
 },
 "nbformat": 4,
 "nbformat_minor": 2
}
